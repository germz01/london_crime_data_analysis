{
 "cells": [
  {
   "cell_type": "code",
   "execution_count": null,
   "metadata": {
    "ExecuteTime": {
     "end_time": "2019-06-05T13:48:45.065547Z",
     "start_time": "2019-06-05T13:48:43.901634Z"
    }
   },
   "outputs": [],
   "source": [
    "import pandas as pd"
   ]
  },
  {
   "cell_type": "code",
   "execution_count": null,
   "metadata": {
    "ExecuteTime": {
     "end_time": "2019-06-05T14:35:38.030606Z",
     "start_time": "2019-06-05T14:35:17.891353Z"
    }
   },
   "outputs": [],
   "source": [
    "df = pd.read_csv('../data/london_crime_by_lsoa.csv', \n",
    "                 dtype={'month': str, 'year': str})"
   ]
  },
  {
   "cell_type": "code",
   "execution_count": null,
   "metadata": {
    "ExecuteTime": {
     "end_time": "2019-06-05T14:35:39.576265Z",
     "start_time": "2019-06-05T14:35:38.534070Z"
    }
   },
   "outputs": [],
   "source": [
    "df = df.loc[df['value'] != 0]"
   ]
  },
  {
   "cell_type": "code",
   "execution_count": null,
   "metadata": {
    "ExecuteTime": {
     "end_time": "2019-06-05T14:40:24.571245Z",
     "start_time": "2019-06-05T14:40:22.986720Z"
    }
   },
   "outputs": [],
   "source": [
    "df['date'] = df['year'].map(str) + '-' + df['month']"
   ]
  },
  {
   "cell_type": "code",
   "execution_count": null,
   "metadata": {
    "ExecuteTime": {
     "end_time": "2019-06-05T14:40:38.979882Z",
     "start_time": "2019-06-05T14:40:38.053886Z"
    }
   },
   "outputs": [],
   "source": [
    "df['date'] = pd.to_datetime(df['date'], format='%Y-%m')"
   ]
  },
  {
   "cell_type": "code",
   "execution_count": null,
   "metadata": {
    "ExecuteTime": {
     "end_time": "2019-06-05T14:41:00.740171Z",
     "start_time": "2019-06-05T14:41:00.641691Z"
    }
   },
   "outputs": [],
   "source": [
    "df.drop(columns=['lsoa_code', 'year', 'month', 'minor_category'], inplace=True)"
   ]
  },
  {
   "cell_type": "code",
   "execution_count": null,
   "metadata": {
    "ExecuteTime": {
     "end_time": "2019-06-05T14:44:13.534285Z",
     "start_time": "2019-06-05T14:44:13.430504Z"
    }
   },
   "outputs": [],
   "source": [
    "time_series_total = df.groupby(by='date').agg({'value': 'sum'})\n",
    "time_series_total = time_series_total.asfreq(freq='MS')"
   ]
  },
  {
   "cell_type": "code",
   "execution_count": null,
   "metadata": {
    "ExecuteTime": {
     "end_time": "2019-06-05T15:25:48.806449Z",
     "start_time": "2019-06-05T15:25:48.796359Z"
    }
   },
   "outputs": [],
   "source": [
    "time_series_total.to_csv('../data/time_series/ts_total.csv')"
   ]
  },
  {
   "cell_type": "code",
   "execution_count": null,
   "metadata": {
    "ExecuteTime": {
     "end_time": "2019-06-05T15:19:29.492150Z",
     "start_time": "2019-06-05T15:06:45.926285Z"
    }
   },
   "outputs": [],
   "source": [
    "ts_borough = pd.DataFrame(columns=['borough', 'value', 'date'])\n",
    "\n",
    "for date in df['date'].unique():\n",
    "    print(date)\n",
    "    for borough in df['borough'].unique():\n",
    "        value = df.loc[(df['date'] == date) & (df['borough'] == borough)]['value'].sum()\n",
    "        \n",
    "        ts_borough.loc[ts_borough.shape[0]] = [borough, value, date]"
   ]
  },
  {
   "cell_type": "code",
   "execution_count": null,
   "metadata": {
    "ExecuteTime": {
     "end_time": "2019-06-05T15:27:26.440203Z",
     "start_time": "2019-06-05T15:27:26.364824Z"
    }
   },
   "outputs": [],
   "source": [
    "ts_borough.to_csv('../data/time_series/ts_borough.csv', index=False)"
   ]
  }
 ],
 "metadata": {
  "kernelspec": {
   "display_name": "Python 3",
   "language": "python",
   "name": "python3"
  },
  "language_info": {
   "codemirror_mode": {
    "name": "ipython",
    "version": 3
   },
   "file_extension": ".py",
   "mimetype": "text/x-python",
   "name": "python",
   "nbconvert_exporter": "python",
   "pygments_lexer": "ipython3",
   "version": "3.7.3"
  },
  "varInspector": {
   "cols": {
    "lenName": 16,
    "lenType": 16,
    "lenVar": 40
   },
   "kernels_config": {
    "python": {
     "delete_cmd_postfix": "",
     "delete_cmd_prefix": "del ",
     "library": "var_list.py",
     "varRefreshCmd": "print(var_dic_list())"
    },
    "r": {
     "delete_cmd_postfix": ") ",
     "delete_cmd_prefix": "rm(",
     "library": "var_list.r",
     "varRefreshCmd": "cat(var_dic_list()) "
    }
   },
   "types_to_exclude": [
    "module",
    "function",
    "builtin_function_or_method",
    "instance",
    "_Feature"
   ],
   "window_display": false
  }
 },
 "nbformat": 4,
 "nbformat_minor": 2
}
